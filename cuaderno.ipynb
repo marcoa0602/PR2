{
 "cells": [
  {
   "cell_type": "code",
   "execution_count": null,
   "metadata": {},
   "outputs": [],
   "source": []
  },
  {
   "cell_type": "markdown",
   "metadata": {},
   "source": [
    "<img src=\"https://gcs-international.com/wp-content/uploads/2018/07/Unibe-Logo.png\"  width=\"450\" height=\"400\">\n",
    "\n",
    "# PR2 - Análisis de Datos Reales\n",
    "## **Ejercicio y Aptitud Física en las personas**\n",
    "<br>\n",
    "\n",
    "### **Miembros del Grupo:**\n",
    "##### Miguel Tapia (22-0357)\n",
    "##### Marco Holguín-Veras (22-0367)\n",
    "<br>\n",
    "\n",
    "### **Prof.: Delio Alexander Siret Baéz**\n",
    "<br>\n",
    "\n",
    "### **Fecha de entrega:** 17/8/2023"
   ]
  },
  {
   "cell_type": "markdown",
   "metadata": {},
   "source": [
    "# Paso 2: Descripción y Analisis del Problema\n",
    "Base de Datos: (https://www.kaggle.com/datasets/aakashjoshi123/exercise-and-fitness-metrics-dataset).\n",
    "\n",
    "Contexto:\n",
    "El problema se enmarca en el ámbito de la salud y el fitness, donde se busca determinar qué tipo de ejercicio es más efectivo para quemar calorías y cómo el clima puede influir en la cantidad de calorías quemadas durante una sesión de ejercicio. Esto es importante para ayudar a las personas a tomar decisiones informadas sobre sus rutinas de ejercicio y optimizar sus esfuerzos para alcanzar sus objetivos de pérdida de peso y salud en general.\n",
    "\n",
    "Características principales:\n",
    "El problema implica analizar una base de datos que contiene información sobre diferentes ejercicios realizados por individuos, incluyendo datos como el tipo de ejercicio, la duración, la intensidad, el clima en el momento del ejercicio y la cantidad de calorías quemadas. Las características clave incluyen:\n",
    "\n",
    "1. Tipo de ejercicio: Cada registro contiene información sobre el tipo de ejercicio realizado, que puede ser correr, nadar, levantar pesas, yoga, etc.\n",
    "\n",
    "2. Duración e intensidad: La duración y la intensidad del ejercicio son factores cruciales que afectan la cantidad de calorías quemadas. Una relación más larga y/o intensa generalmente resulta en una mayor quema de calorías.\n",
    "\n",
    "3. Clima: La temperatura y las condiciones climáticas pueden tener un impacto en la cantidad de calorías quemadas durante el ejercicio. Por ejemplo, el cuerpo puede trabajar más para mantener la temperatura en climas fríos.\n",
    "\n",
    "4. Calorías quemadas: Esta es la variable objetivo que se busca predecir. Representa la cantidad de calorías que un individuo ha quemado durante su sesión de ejercicio.\n",
    "\n",
    "Motivación/Justificación:\n",
    "La motivación detrás de resolver este problema es proporcionar a las personas una guía basada en datos sobre qué tipo de ejercicio podría ser más efectivo para quemar calorías, y cómo factores externos como el clima podrían influir en sus esfuerzos de pérdida de peso. Esto permite a las personas tomar decisiones más informadas sobre su enfoque de ejercicios y ajustar su rutina en función de las condiciones ambientales.\n",
    "\n",
    "Tipo de problema de aprendizaje automático:\n",
    "Este problema se enmarca como un problema de regresión, ya que el objetivo es predecir una cantidad numérica (calorías quemadas) en función de varias variables de entrada (tipo de ejercicio, duración, intensidad, clima, etc.). El aprendizaje automático puede ser utilizado para crear un modelo que aprenda patrones a partir de los datos históricos y pueda hacer predicciones sobre la cantidad de calorías que una persona podría quemar en función de las variables dadas.\n",
    "\n",
    "# Paso 3: Planeación de la Solución del Problema\n",
    "\n",
    "Requisitos del Proyecto:\n",
    "Conjunto de datos: Tener acceso y comprensión del conjunto de datos de métricas de ejercicio y fitness proporcionado en Kaggle (https://www.kaggle.com/datasets/aakashjoshi123/exercise-and-fitness-metrics-dataset).\n",
    "\n",
    "\n",
    "Python: Tener conocimientos de programación en Python para la implementación del análisis de datos, creación de modelos y visualización.\n",
    "\n",
    "\n",
    "Bibliotecas: Familiaridad con bibliotecas como pandas, numpy, scikit-learn y matplotlib para el procesamiento de datos, el desarrollo de modelos y la visualización.\n",
    "Objetivos de la Solución:\n",
    "Predecir la cantidad de calorías quemadas en función de las variables de entrada (tipo de ejercicio, duración, intensidad, clima, etc.).\n",
    "\n",
    "Determinar cómo el clima afecta la cantidad de calorías quemadas.\n",
    "\n",
    "Implementar un código para poder limpiar los datos y poder crear gráficos como el gráfico de flujos para poder llegar a una solución y determinar cuál es el mejor ejercicio o el ejercicio más óptimo para poder alcanzar tu peso ideal y ver cual seria la mejor situacion.\n",
    "\n",
    "\n",
    " "
   ]
  },
  {
   "cell_type": "markdown",
   "metadata": {},
   "source": []
  },
  {
   "cell_type": "markdown",
   "metadata": {},
   "source": []
  }
 ],
 "metadata": {
  "kernelspec": {
   "display_name": "Python 3.10.7 64-bit",
   "language": "python",
   "name": "python3"
  },
  "language_info": {
   "codemirror_mode": {
    "name": "ipython",
    "version": 3
   },
   "file_extension": ".py",
   "mimetype": "text/x-python",
   "name": "python",
   "nbconvert_exporter": "python",
   "pygments_lexer": "ipython3",
   "version": "3.11.3"
  },
  "orig_nbformat": 4,
  "vscode": {
   "interpreter": {
    "hash": "aee8b7b246df8f9039afb4144a1f6fd8d2ca17a180786b69acc140d282b71a49"
   }
  }
 },
 "nbformat": 4,
 "nbformat_minor": 2
}
